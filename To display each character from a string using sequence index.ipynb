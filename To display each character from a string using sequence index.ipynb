{
 "cells": [
  {
   "cell_type": "markdown",
   "id": "d378f520-867d-41c3-9aed-b87511527e33",
   "metadata": {},
   "source": [
    "**Write a python program to display each character from a string using sequence index**"
   ]
  },
  {
   "cell_type": "code",
   "execution_count": 1,
   "id": "b04285d8-c689-4d06-8b9e-3ea6b1ba2fdc",
   "metadata": {},
   "outputs": [],
   "source": [
    "#Putting input word to the variable a\n",
    "a=\"Hello\""
   ]
  },
  {
   "cell_type": "code",
   "execution_count": 2,
   "id": "378d8cbe-e4ec-48b3-802f-124b27161c31",
   "metadata": {},
   "outputs": [],
   "source": [
    "#finding the length of the variable a by using len() and putting the length size in n variable\n",
    "n=len(a)"
   ]
  },
  {
   "cell_type": "code",
   "execution_count": 3,
   "id": "ab5b37d0-3a4a-47ee-b45e-60f235e88744",
   "metadata": {},
   "outputs": [
    {
     "name": "stdout",
     "output_type": "stream",
     "text": [
      "5\n"
     ]
    }
   ],
   "source": [
    "#displaying the length of the word putting in a variable \n",
    "print(len(a))"
   ]
  },
  {
   "cell_type": "code",
   "execution_count": 4,
   "id": "f972ce15-8909-4b24-aae8-39db04a2a925",
   "metadata": {},
   "outputs": [
    {
     "name": "stdout",
     "output_type": "stream",
     "text": [
      "H\n",
      "e\n",
      "l\n",
      "l\n",
      "o\n"
     ]
    }
   ],
   "source": [
    "#range() is used to  provide a sequence of numbers from 0 to n-1\n",
    "for b in range(n):\n",
    "    print(a[b])"
   ]
  },
  {
   "cell_type": "markdown",
   "id": "dd33a926-ea00-4f6a-bd92-13bf029f3916",
   "metadata": {},
   "source": [
    "**We can also display character using index number**"
   ]
  },
  {
   "cell_type": "code",
   "execution_count": 5,
   "id": "d72a4f0f-eea6-480b-973a-8a23cba4414a",
   "metadata": {},
   "outputs": [
    {
     "name": "stdout",
     "output_type": "stream",
     "text": [
      "e\n"
     ]
    }
   ],
   "source": [
    "# Display the character present at index number 1 of the word HELLO\n",
    "print(a[1])"
   ]
  },
  {
   "cell_type": "code",
   "execution_count": 6,
   "id": "dc7a890f-8bfe-464a-b51a-f661f56d8108",
   "metadata": {},
   "outputs": [
    {
     "name": "stdout",
     "output_type": "stream",
     "text": [
      "H\n"
     ]
    }
   ],
   "source": [
    "#display the character present at index number 0 of the word HELLO\n",
    "print(a[0])"
   ]
  },
  {
   "cell_type": "code",
   "execution_count": 7,
   "id": "39b9cafb-e4db-468f-83df-58011d09135c",
   "metadata": {},
   "outputs": [
    {
     "name": "stdout",
     "output_type": "stream",
     "text": [
      "l\n"
     ]
    }
   ],
   "source": [
    "#display the character present at index number 2 of the word HELLO\n",
    "print(a[2])"
   ]
  },
  {
   "cell_type": "code",
   "execution_count": 8,
   "id": "6bc6ad44-dd93-416e-95a1-ebc7d5a47495",
   "metadata": {},
   "outputs": [
    {
     "name": "stdout",
     "output_type": "stream",
     "text": [
      "l\n"
     ]
    }
   ],
   "source": [
    "#display the character present at index number 3 of the word HELLO\n",
    "print(a[3])"
   ]
  },
  {
   "cell_type": "code",
   "execution_count": 9,
   "id": "022e2846-6828-4712-b27c-7cc263524323",
   "metadata": {},
   "outputs": [
    {
     "name": "stdout",
     "output_type": "stream",
     "text": [
      "o\n"
     ]
    }
   ],
   "source": [
    "#display the character present at index number 4 of the word HELLO\n",
    "print(a[4])"
   ]
  },
  {
   "cell_type": "code",
   "execution_count": 10,
   "id": "a96ea75e-bbfa-499d-90d4-4bdeb7cf78dc",
   "metadata": {},
   "outputs": [
    {
     "ename": "IndexError",
     "evalue": "string index out of range",
     "output_type": "error",
     "traceback": [
      "\u001b[1;31m---------------------------------------------------------------------------\u001b[0m",
      "\u001b[1;31mIndexError\u001b[0m                                Traceback (most recent call last)",
      "Cell \u001b[1;32mIn[10], line 2\u001b[0m\n\u001b[0;32m      1\u001b[0m \u001b[38;5;66;03m#display the character present at index number 5 of the word HELLO\u001b[39;00m\n\u001b[1;32m----> 2\u001b[0m \u001b[38;5;28mprint\u001b[39m(a[\u001b[38;5;241m5\u001b[39m])\n",
      "\u001b[1;31mIndexError\u001b[0m: string index out of range"
     ]
    }
   ],
   "source": [
    "#display the character present at index number 5 of the word HELLO\n",
    "print(a[5]) #Here we find index error because the word HELLO does not have an index number 5. It only ranges from 0 to 4. "
   ]
  },
  {
   "cell_type": "code",
   "execution_count": null,
   "id": "d3f4b2af-4545-4a5e-8555-f2eb06087081",
   "metadata": {},
   "outputs": [],
   "source": []
  },
  {
   "cell_type": "code",
   "execution_count": null,
   "id": "04215d25-1811-4011-aab6-5f2d2204ddff",
   "metadata": {},
   "outputs": [],
   "source": []
  },
  {
   "cell_type": "code",
   "execution_count": null,
   "id": "9ce82e1c-b2d0-4fc9-94a9-7d504c1766ff",
   "metadata": {},
   "outputs": [],
   "source": []
  },
  {
   "cell_type": "code",
   "execution_count": null,
   "id": "81e8f360-ee36-4eb8-b546-bfe541dd7a8f",
   "metadata": {},
   "outputs": [],
   "source": []
  },
  {
   "cell_type": "code",
   "execution_count": null,
   "id": "db7fed30-8b69-4568-b4cc-4329ce5d9d2f",
   "metadata": {},
   "outputs": [],
   "source": []
  }
 ],
 "metadata": {
  "kernelspec": {
   "display_name": "Python 3 (ipykernel)",
   "language": "python",
   "name": "python3"
  },
  "language_info": {
   "codemirror_mode": {
    "name": "ipython",
    "version": 3
   },
   "file_extension": ".py",
   "mimetype": "text/x-python",
   "name": "python",
   "nbconvert_exporter": "python",
   "pygments_lexer": "ipython3",
   "version": "3.12.7"
  }
 },
 "nbformat": 4,
 "nbformat_minor": 5
}
